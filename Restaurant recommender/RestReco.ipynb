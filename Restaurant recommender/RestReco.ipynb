{
 "metadata": {
  "name": "",
  "signature": "sha256:f39e56607de85dc8d5c5a89b502c397ec72aebeffb7c5d1058d7b8b3bf6d89ce"
 },
 "nbformat": 3,
 "nbformat_minor": 0,
 "worksheets": [
  {
   "cells": [
    {
     "cell_type": "markdown",
     "metadata": {},
     "source": [
      "###Collaborative Filtering systems\n",
      "\n",
      "In this project, we will create a recommendation system for **restaurants** using [collaborative filtering](http://en.wikipedia.org/wiki/Collaborative_filtering) (CF). The general structure of a recommendation system is that there are users and there are items. Users express explicit or implicit preferences towards certain items. CF thus relies on users' past behavior.\n",
      "\n",
      "There are two primary approaches to CF: neighboorhood and latent factor model. The former is concerned with computing the relationships between items or between users. In the latter approach we have a model of hidden factors through which users and items are transformed to the same space. For example, if we are rating movies we may transform items into genre factors, and users into their preference for a particular genre.\n",
      "\n",
      "Factor models generally lead to more accurate recommenders. One of the reasons for this is the sparsity of the item-user matrix. Most users tend to rate barely one or two items. Latent factor models are more expressive, and fit fewer parameters. However, neighborhood models are more prevalent, as they have an intuitive aspect that appeals to users(if you liked this you will like that) and online(a new preference can be incorporated very quickly).\n",
      "\n",
      "Most recommenders today combine neighboorhood CF with model based CF, and SVD based matrix factorization approaches."
     ]
    },
    {
     "cell_type": "markdown",
     "metadata": {},
     "source": [
      "### User and Item based approaches\n",
      "\n",
      "Original approaches to neighborhood based CF used user-user models. By this we mean that rating estimates are made from recorded ratings of like minded users. However, since most users tend to rate very few items, this is usually a losing proposition for explicit-rating based recommenders. Thus, most neighborhood based systems such as Amazon these days rely on item-item approaches. In these methods, a rating is estimated by other ratings made by the user on \"similar\" or \"nearby\" items: we have a K-Nearest-Neighbors algorithm, in effect."
     ]
    },
    {
     "cell_type": "markdown",
     "metadata": {},
     "source": [
      "###Outline of this Project\n",
      "\n",
      "The outline of this project is as follows:\n",
      "\n",
      "1. We create a database of item-item similarities and use it to implement a neighborhood-based CF recommender that can answer simple questions like \"give me more restaurants like this one\". This part of the project assumes that the similaties calculated make good \"global recommendations\".\n",
      "\n",
      "2. In the second part, we go one step further and attempt to predict the rating that a user will give an item they have not seen before. This requires that we find the restaurants that *this* user would rate as similar (not just those which are globally similar). \n",
      "\n",
      "3. In the third part, we implement a factor-based CF recommender using a Bayesian model. While quite a bit more complex, this allows us to pool information both about similar users and about similar restaurants.\n",
      "\n",
      "5. We will scale up our system by creating a recommender on the lines of Q1 and Q2 that works on the entire data set. We will use the map-reduce paradigm to split the computation over multiple machines."
     ]
    },
    {
     "cell_type": "markdown",
     "metadata": {},
     "source": [
      "We will start simply, by working on a subset of the restaurant data before generalizing to the entire data set. The complete data set has 150,000 reviews, but we shall start with just about 7000. We will create this  smaller set by taking all the users who had rated more than 60 restaurants, and all the businesses which had greater than 150 reviews from the larger data set. This is not a random set: indeed we use it as it a computationally tractable set that is a bit less sparse than the entire data set."
     ]
    },
    {
     "cell_type": "markdown",
     "metadata": {},
     "source": [
      "## Load python modules and settings for matplotlib"
     ]
    },
    {
     "cell_type": "code",
     "collapsed": false,
     "input": [
      "%matplotlib inline\n",
      "from collections import defaultdict\n",
      "import json\n",
      "\n",
      "import numpy as np\n",
      "import scipy as sp\n",
      "import matplotlib.pyplot as plt\n",
      "import pandas as pd\n",
      "\n",
      "from matplotlib import rcParams\n",
      "import matplotlib.cm as cm\n",
      "import matplotlib as mpl\n",
      "\n",
      "#colorbrewer2 Dark2 qualitative color table\n",
      "dark2_colors = [(0.10588235294117647, 0.6196078431372549, 0.4666666666666667),\n",
      "                (0.8509803921568627, 0.37254901960784315, 0.00784313725490196),\n",
      "                (0.4588235294117647, 0.4392156862745098, 0.7019607843137254),\n",
      "                (0.9058823529411765, 0.1607843137254902, 0.5411764705882353),\n",
      "                (0.4, 0.6509803921568628, 0.11764705882352941),\n",
      "                (0.9019607843137255, 0.6705882352941176, 0.00784313725490196),\n",
      "                (0.6509803921568628, 0.4627450980392157, 0.11372549019607843)]\n",
      "\n",
      "rcParams['figure.figsize'] = (10, 6)\n",
      "rcParams['figure.dpi'] = 150\n",
      "rcParams['axes.color_cycle'] = dark2_colors\n",
      "rcParams['lines.linewidth'] = 2\n",
      "rcParams['axes.facecolor'] = 'white'\n",
      "rcParams['font.size'] = 14\n",
      "rcParams['patch.edgecolor'] = 'white'\n",
      "rcParams['patch.facecolor'] = dark2_colors[0]\n",
      "rcParams['font.family'] = 'StixGeneral'\n",
      "\n",
      "\n",
      "def remove_border(axes=None, top=False, right=False, left=True, bottom=True):\n",
      "    \"\"\"\n",
      "    Minimize chartjunk by stripping out unnecesasry plot borders and axis ticks\n",
      "    \n",
      "    The top/right/left/bottom keywords toggle whether the corresponding plot border is drawn\n",
      "    \"\"\"\n",
      "    ax = axes or plt.gca()\n",
      "    ax.spines['top'].set_visible(top)\n",
      "    ax.spines['right'].set_visible(right)\n",
      "    ax.spines['left'].set_visible(left)\n",
      "    ax.spines['bottom'].set_visible(bottom)\n",
      "    \n",
      "    #turn off all ticks\n",
      "    ax.yaxis.set_ticks_position('none')\n",
      "    ax.xaxis.set_ticks_position('none')\n",
      "    \n",
      "    #now re-enable visibles\n",
      "    if top:\n",
      "        ax.xaxis.tick_top()\n",
      "    if bottom:\n",
      "        ax.xaxis.tick_bottom()\n",
      "    if left:\n",
      "        ax.yaxis.tick_left()\n",
      "    if right:\n",
      "        ax.yaxis.tick_right()\n",
      "        \n",
      "pd.set_option('display.width', 500)\n",
      "pd.set_option('display.max_columns', 100)"
     ],
     "language": "python",
     "metadata": {},
     "outputs": [],
     "prompt_number": 2
    },
    {
     "cell_type": "markdown",
     "metadata": {},
     "source": [
      "### Description of the data set\n",
      "\n",
      "The data set has been extracted from the Yelp Phoenix restaurants dataset. It is available [here](https://dl.dropboxusercontent.com/u/75194/bigdf.csv)."
     ]
    },
    {
     "cell_type": "code",
     "collapsed": false,
     "input": [
      "fulldf = pd.read_csv(\"bigdf.csv\")\n",
      "fulldf.head(2)"
     ],
     "language": "python",
     "metadata": {},
     "outputs": [
      {
       "html": [
        "<div style=\"max-height:1000px;max-width:1500px;overflow:auto;\">\n",
        "<table border=\"1\" class=\"dataframe\">\n",
        "  <thead>\n",
        "    <tr style=\"text-align: right;\">\n",
        "      <th></th>\n",
        "      <th>user_id</th>\n",
        "      <th>business_id</th>\n",
        "      <th>date</th>\n",
        "      <th>review_id</th>\n",
        "      <th>stars</th>\n",
        "      <th>usefulvotes_review</th>\n",
        "      <th>user_name</th>\n",
        "      <th>categories</th>\n",
        "      <th>biz_name</th>\n",
        "      <th>latitude</th>\n",
        "      <th>longitude</th>\n",
        "      <th>business_avg</th>\n",
        "      <th>business_review_count</th>\n",
        "      <th>user_avg</th>\n",
        "      <th>user_review_count</th>\n",
        "    </tr>\n",
        "  </thead>\n",
        "  <tbody>\n",
        "    <tr>\n",
        "      <th>0</th>\n",
        "      <td> rLtl8ZkDX5vH5nAx9C3q5Q</td>\n",
        "      <td> 9yKzy9PApeiPPOUJEtnvkg</td>\n",
        "      <td> 2011-01-26 00:00:00</td>\n",
        "      <td> fWKvX83p0-ka4JS3dc6E5A</td>\n",
        "      <td> 5</td>\n",
        "      <td> 5</td>\n",
        "      <td>    Jason</td>\n",
        "      <td> [Breakfast &amp; Brunch, Restaurants]</td>\n",
        "      <td> Morning Glory Cafe</td>\n",
        "      <td> 33.390792</td>\n",
        "      <td>-112.012504</td>\n",
        "      <td> 3.87156</td>\n",
        "      <td> 109</td>\n",
        "      <td> 3.796954</td>\n",
        "      <td> 197</td>\n",
        "    </tr>\n",
        "    <tr>\n",
        "      <th>1</th>\n",
        "      <td> SBbftLzfYYKItOMFwOTIJg</td>\n",
        "      <td> 9yKzy9PApeiPPOUJEtnvkg</td>\n",
        "      <td> 2008-05-04 00:00:00</td>\n",
        "      <td> DASdFe-g0BgfN9J2tanStg</td>\n",
        "      <td> 5</td>\n",
        "      <td> 1</td>\n",
        "      <td> Jennifer</td>\n",
        "      <td> [Breakfast &amp; Brunch, Restaurants]</td>\n",
        "      <td> Morning Glory Cafe</td>\n",
        "      <td> 33.390792</td>\n",
        "      <td>-112.012504</td>\n",
        "      <td> 3.87156</td>\n",
        "      <td> 109</td>\n",
        "      <td> 3.473684</td>\n",
        "      <td>  57</td>\n",
        "    </tr>\n",
        "  </tbody>\n",
        "</table>\n",
        "</div>"
       ],
       "metadata": {},
       "output_type": "pyout",
       "prompt_number": 4,
       "text": [
        "                  user_id             business_id                 date               review_id  stars  usefulvotes_review user_name                         categories            biz_name   latitude   longitude  business_avg  business_review_count  user_avg  user_review_count\n",
        "0  rLtl8ZkDX5vH5nAx9C3q5Q  9yKzy9PApeiPPOUJEtnvkg  2011-01-26 00:00:00  fWKvX83p0-ka4JS3dc6E5A      5                   5     Jason  [Breakfast & Brunch, Restaurants]  Morning Glory Cafe  33.390792 -112.012504       3.87156                    109  3.796954                197\n",
        "1  SBbftLzfYYKItOMFwOTIJg  9yKzy9PApeiPPOUJEtnvkg  2008-05-04 00:00:00  DASdFe-g0BgfN9J2tanStg      5                   1  Jennifer  [Breakfast & Brunch, Restaurants]  Morning Glory Cafe  33.390792 -112.012504       3.87156                    109  3.473684                 57"
       ]
      }
     ],
     "prompt_number": 4
    },
    {
     "cell_type": "markdown",
     "metadata": {},
     "source": [
      "The data frame is a frame of reviews. We have joined in information about users and businesses into this frame so that we have only one frame to work with."
     ]
    },
    {
     "cell_type": "markdown",
     "metadata": {},
     "source": [
      "This information is for the reviews themselves:"
     ]
    },
    {
     "cell_type": "raw",
     "metadata": {},
     "source": [
      "  'stars': (star rating, integer 1-5),\n",
      "  'date': (date, formatted like '2011-04-19'),\n",
      "  'review_id': (unique id for the review)."
     ]
    },
    {
     "cell_type": "markdown",
     "metadata": {},
     "source": [
      "Here is a description of the data fields in this dataframe, on the business side"
     ]
    },
    {
     "cell_type": "raw",
     "metadata": {},
     "source": [
      "'business_id': (a unique identifier for this business),\n",
      "  'biz_name': (the full business name),\n",
      "  'latitude': (latitude),\n",
      "  'longitude': (longitude),\n",
      "  'business_review_count': (review count for the restaurant[this is a repeated field for all reviews of the restaurant]),\n",
      "  'categories': [(localized category names)],\n",
      "  'business_avg': (average stars over all users reviews for business[this is a repeated field for all reviews of the restaurant])."
     ]
    },
    {
     "cell_type": "markdown",
     "metadata": {},
     "source": [
      "And Finally, a set of fields for users"
     ]
    },
    {
     "cell_type": "raw",
     "metadata": {},
     "source": [
      " 'user_id': (unique user identifier),\n",
      "  'user_name': (first name, last initial, like 'Matt J.'),\n",
      "  'user_review_count': (count of restaurants reviewed by user[this is a repeated field for all reviews by the user]),\n",
      "  'user_avg': (floating point average of users reviews over all businesses, like 4.31[this is a repeated field for all reviews by the user])."
     ]
    },
    {
     "cell_type": "markdown",
     "metadata": {},
     "source": [
      "In this data set, every user has only one review for each restaurant. We can easily check this using `duplicated` function of `pandas`"
     ]
    },
    {
     "cell_type": "code",
     "collapsed": false,
     "input": [
      "fulldf.duplicated([\"user_id\", \"business_id\"]).unique()"
     ],
     "language": "python",
     "metadata": {},
     "outputs": [
      {
       "metadata": {},
       "output_type": "pyout",
       "prompt_number": 5,
       "text": [
        "array([False], dtype=object)"
       ]
      }
     ],
     "prompt_number": 5
    },
    {
     "cell_type": "markdown",
     "metadata": {},
     "source": [
      "###Our Recommender\n",
      "\n",
      "To motivate our recommendation system, consider the follwing example. Let's pretend we are in New York city for a second. Lets say the average rating of restaurants here by all the users is 3.5. Crepes du Nord at Wall Street is better than an average restaurant, so it tends to be rated 0.5 stars above the average (over all the users). However, you are a curmudgeon, who tends to rate 0.3 stars below the average. Then a baseline estimate for the recommendation for Crepes du Nord, for you, is 3.5+0.5-0.3=3.7.\n",
      "\n",
      "These baseline estimates thus adjust the data by accounting for the systematic tendencies for some users who give higher ratings than others, and for some restaurants to recieve higher ratings than others. We can write the baseline estimate $\\hat Y_{um}^{baseline}$ for an unknown rating $Y_{um}$ for user $u$ and restaurant or business $m$ as:\n",
      "\n",
      "$$ \\hat Y_{um}^{baseline} = \\hat \\mu + \\hat \\theta_{u0} + \\hat \\gamma_{m0} $$\n",
      "\n",
      "where the unknown parameters $\\theta_{u0}$ and $\\gamma_{m0}$ indicate the deviations, or biases, of user $u$ and item $m$, respectively, from some intercept parameter $\\mu$. (The reason for the strange notation with 0s will become clear in part 3)\n",
      "\n",
      "Notice that the $\\theta_{u0}$ and $\\gamma_{m0}$ are parameters which need to be fit. The simplest thing to start with, and something we will do for parts 1 and 2 (but not 3), is to replace them by their \"mean\" estimates from the data. Thus:\n",
      "\n",
      "$$ \\hat Y^{baseline}_{um} = \\bar Y + (\\bar Y_u - \\bar Y) + (\\bar Y_m - \\bar Y)$$\n",
      "\n",
      "where $\\bar Y_u$ =  `user_avg`, the average of all a user $u$'s ratings and $\\bar Y_m$ = `business_avg`, the average of all ratings for a restaurant $m$. $\\bar Y$ is the average rating over all reviews.\n",
      "\n",
      "The final two terms correspond to the user-specific and item-specific bias in ratings, that is, how their ratings tend to systematically diverge from the global average. This is the simplest possible way to predict a rating, based only on information about *this* user and *this* restaurant.\n",
      "\n",
      "Can we do a better job of predicting the rating $Y_{um}$ user $u$ would give to restaurant $r$? According to the central dogma of CF, we ought to be able to use the responses of *similar* users regarding *similar* restaurants to get a better prediction. \n",
      "\n",
      "We can make an estimate of $Y_{um}$ as:\n",
      "\n",
      "$$ \\hat{Y}_{um} = \\hat Y_{um}^{baseline}\\, + \\,\\frac{\\sum\\limits_{j \\in S^{k}(m)} s_{mj} ( Y_{uj} - \\hat Y_{uj}^{baseline} )}{\\sum\\limits_{j \\in S^{k}(m)} s_{mj} } $$\n",
      "\n",
      "where $s^{k}(m)$ is the $k$ neighbor items of item $m$ based on some pooling criterion, for example, those items which have been rated by user $u$.\n",
      "\n",
      "In the next two parts, we will focus on using similar restaurants, or the item neighborhood.\n",
      "To do this, we compute a *similarity measure* $s_{mj}$ between the $m$th and $j$th items. This similarity might be measured via [cosine similarity](http://en.wikipedia.org/wiki/Cosine_similarity), [pearson co-efficient](http://en.wikipedia.org/wiki/Pearson_product-moment_correlation_coefficient) or using other distance based measures. Here we shall use the Pearson coefficient. This measures the tendency of users to rate items similarly. Since most ratings are unknown, it is computed on the \"common user support\" (`n_common`), which is the set of common raters of both items. \n",
      "\n",
      "In the first part we shall set $S$ to the global neighborhood of the item, and in the second we shall set it to those items which have been rated by user $u$."
     ]
    },
    {
     "cell_type": "markdown",
     "metadata": {},
     "source": [
      "## Writing a simple \"global\" recommender"
     ]
    },
    {
     "cell_type": "markdown",
     "metadata": {},
     "source": [
      "Now we have a way to pool information between similar restaurants to try to predict a user's recommendation. But how do we choose the neighborhood to pool over? We begin with the simplest choice. We calculate the similarity between items using their entire common user support, and rank the nearest neighbors of an item by this similarity. We call this a \"global\" recommender because it assumes that every user perceives the similarity between restaurants in the same way. Later on, we will implement a more specific recommender that pools information based on which items seem the most similar *to this user*.\n",
      "\n",
      "The global recommender does have the advantage of dealing with the possible sparsity of the user's rated items, but also the disadvantage of giving one answer for all users, without taking the user's preferences into account. This is a classic case of bias-variance tradeoff.\n",
      "\n",
      "Lets implement this simpler global recommender first.\n"
     ]
    },
    {
     "cell_type": "markdown",
     "metadata": {},
     "source": [
      "### Exploratory Data Analysis"
     ]
    },
    {
     "cell_type": "markdown",
     "metadata": {},
     "source": [
      "Let us start by looking at the review counts per user and per restaurant. We also compute average star rating and plot a histogram of star ratings over all reviews"
     ]
    },
    {
     "cell_type": "code",
     "collapsed": false,
     "input": [
      "urc = fulldf.groupby('user_id').review_id.count()\n",
      "ax = urc.hist(bins=50, log=True)\n",
      "remove_border(ax)\n",
      "plt.xlabel('Reviews per user')\n",
      "plt.grid(False)\n",
      "plt.grid(axis='y', color='white', linestyle='-')\n",
      "plt.title('Review count per user')\n",
      "savefig('user_hist_full.png', bbox_inches='tight')"
     ],
     "language": "python",
     "metadata": {},
     "outputs": [
      {
       "metadata": {},
       "output_type": "display_data",
       "png": "[encoded data removed]",
       "text": [
        "<matplotlib.figure.Figure at 0x1060a4e10>"
       ]
      }
     ],
     "prompt_number": 10
    },
    {
     "cell_type": "code",
     "collapsed": false,
     "input": [
      "urc = fulldf.groupby('business_id').review_id.count()\n",
      "ax = urc.hist(bins=50, log=True)\n",
      "remove_border(ax)\n",
      "plt.xlabel('Reviews per restaurant')\n",
      "plt.grid(False)\n",
      "plt.grid(axis='y', color='white', linestyle='-')\n",
      "plt.title('Review count per restaurant')\n",
      "savefig('rest_hist_full.png', bbox_inches='tight')"
     ],
     "language": "python",
     "metadata": {},
     "outputs": [
      {
       "metadata": {},
       "output_type": "display_data",
       "png": "[encoded data removed]",
       "text": [
        "<matplotlib.figure.Figure at 0x1034b9cd0>"
       ]
      }
     ],
     "prompt_number": 11
    },
    {
     "cell_type": "code",
     "collapsed": false,
     "input": [
      "print \"Number of reviews \", fulldf.shape[0]\n",
      "print \"Number of users \", fulldf.user_id.unique().shape[0] \n",
      "print \"Number of businesses \", fulldf.business_id.unique().shape[0] "
     ],
     "language": "python",
     "metadata": {},
     "outputs": [
      {
       "output_type": "stream",
       "stream": "stdout",
       "text": [
        "Number of reviews  149319\n",
        "Number of users  34789\n",
        "Number of businesses  4503\n"
       ]
      }
     ],
     "prompt_number": 8
    },
    {
     "cell_type": "code",
     "collapsed": false,
     "input": [
      "print \"Average star rating from all the reviews: \", round(fulldf.stars.mean(),2)\n",
      "stars = fulldf.stars\n",
      "ax = stars.hist(bins=5)\n",
      "remove_border(ax)\n",
      "plt.xlabel('Star rating')\n",
      "plt.grid(False)\n",
      "plt.grid(axis='y', color='white', linestyle='-')\n",
      "plt.title('Star rating over all reviews')\n",
      "savefig('ratings_hist_full.png', bbox_inches='tight')"
     ],
     "language": "python",
     "metadata": {},
     "outputs": [
      {
       "output_type": "stream",
       "stream": "stdout",
       "text": [
        "Average star rating from all the reviews:  3.74\n"
       ]
      },
      {
       "metadata": {},
       "output_type": "display_data",
       "png": "[encoded data removed]",
       "text": [
        "<matplotlib.figure.Figure at 0x105bb3fd0>"
       ]
      }
     ],
     "prompt_number": 12
    },
    {
     "cell_type": "markdown",
     "metadata": {},
     "source": [
      "Since we plan to work with a smaller subset of the full dataset, it is a good idea to write a function to recompute averages for the subset"
     ]
    },
    {
     "cell_type": "code",
     "collapsed": false,
     "input": [
      "def recompute_frame(ldf):\n",
      "    \"\"\"\n",
      "    takes a dataframe ldf, makes a copy of it, and returns the copy\n",
      "    with all averages and review counts recomputed\n",
      "    this is used when a frame is subsetted.\n",
      "    \"\"\"\n",
      "    ldfu = ldf.groupby('user_id')\n",
      "    ldfb = ldf.groupby('business_id')\n",
      "    user_avg = ldfu.stars.mean()\n",
      "    user_review_count = ldfu.review_id.count()\n",
      "    business_avg = ldfb.stars.mean()\n",
      "    business_review_count = ldfb.review_id.count()\n",
      "    nldf = ldf.copy()\n",
      "    nldf.set_index(['business_id'], inplace=True)\n",
      "    nldf['business_avg'] = business_avg\n",
      "    nldf['business_review_count'] = business_review_count\n",
      "    nldf.reset_index(inplace=True)\n",
      "    nldf.set_index(['user_id'], inplace=True)\n",
      "    nldf['user_avg'] = user_avg\n",
      "    nldf['user_review_count'] = user_review_count\n",
      "    nldf.reset_index(inplace=True)\n",
      "    return nldf"
     ],
     "language": "python",
     "metadata": {},
     "outputs": [],
     "prompt_number": 13
    },
    {
     "cell_type": "markdown",
     "metadata": {},
     "source": [
      "Now we create a smaller data set in dataframe `smalldf` by looking for those businesses with more than 150 reviews and those users with more than 60 reviews. We include all the columns that were there in the parent dataframe. Since we have created a subset of the data set, we use the function provided above to recalculate the averages.\n",
      "\n",
      "Note that while this cut makes sure we have prolific users, the cut on businesses restores sparsity  by reducing the number of reviews per user."
     ]
    },
    {
     "cell_type": "code",
     "collapsed": false,
     "input": [
      "smallrdf = fulldf[(fulldf.user_review_count > 60) & (fulldf.business_review_count >150)]\n",
      "smalldf = recompute_frame(smallrdf)\n",
      "print \"Number of reviews in subset \", smalldf.shape[0]\n",
      "print \"Number of users in subset \", smalldf.user_id.unique().shape[0] \n",
      "print \"Number of businesses in subset \", smalldf.business_id.unique().shape[0] "
     ],
     "language": "python",
     "metadata": {},
     "outputs": [
      {
       "output_type": "stream",
       "stream": "stdout",
       "text": [
        "Number of reviews in subset  6165\n",
        "Number of users in subset  240\n",
        "Number of businesses in subset  172\n"
       ]
      }
     ],
     "prompt_number": 14
    },
    {
     "cell_type": "code",
     "collapsed": false,
     "input": [
      "ax = smalldf.groupby('user_id').review_id.count().hist()\n",
      "remove_border(ax)\n",
      "plt.xlabel('Reviews per user')\n",
      "plt.grid(False)\n",
      "plt.grid(axis='y', color='white', linestyle='-')\n",
      "plt.title('Review count per user')\n",
      "#plt.figure()\n",
      "savefig('user_hist_small.png', bbox_inches='tight')"
     ],
     "language": "python",
     "metadata": {},
     "outputs": [
      {
       "metadata": {},
       "output_type": "display_data",
       "png": "[encoded data removed]",
       "text": [
        "<matplotlib.figure.Figure at 0x10bf7ef10>"
       ]
      }
     ],
     "prompt_number": 17
    },
    {
     "cell_type": "code",
     "collapsed": false,
     "input": [
      "ax = smalldf.groupby('business_id').review_id.count().hist()\n",
      "remove_border(ax)\n",
      "plt.xlabel('Reviews per restaurant')\n",
      "plt.grid(False)\n",
      "plt.grid(axis='y', color='white', linestyle='-')\n",
      "plt.title('Review count per restaurant')\n",
      "#plt.figure()\n",
      "savefig('rest_hist_small.png', bbox_inches='tight')"
     ],
     "language": "python",
     "metadata": {},
     "outputs": [
      {
       "metadata": {},
       "output_type": "display_data",
       "png": "[encoded data removed]",
       "text": [
        "<matplotlib.figure.Figure at 0x10bf7ea10>"
       ]
      }
     ],
     "prompt_number": 18
    },
    {
     "cell_type": "markdown",
     "metadata": {},
     "source": [
      "As we made a very specific cut on the data set, making sure we had those businesses with greater than 150 reviews, and those users with more than 60 reviews, this data set is not as sparse as the full one, with a range in both graphs where the histogram is somewhat flat rather than steeply declining."
     ]
    },
    {
     "cell_type": "code",
     "collapsed": false,
     "input": [
      "plt.figure()\n",
      "avg_ratings_by_user=smalldf.groupby('user_id').stars.mean()\n",
      "ax=avg_ratings_by_user.hist()\n",
      "remove_border(ax)\n",
      "plt.xlabel(\"Average review score\")\n",
      "plt.grid(False)\n",
      "plt.grid(axis = 'y', color ='white', linestyle='-')\n",
      "plt.title(\"Average User Rating\")\n",
      "#plt.figure()\n",
      "savefig('rating_user_hist_small.png', bbox_inches='tight')"
     ],
     "language": "python",
     "metadata": {},
     "outputs": [
      {
       "metadata": {},
       "output_type": "display_data",
       "png": "[encoded data removed]",
       "text": [
        "<matplotlib.figure.Figure at 0x1092a2750>"
       ]
      }
     ],
     "prompt_number": 20
    },
    {
     "cell_type": "code",
     "collapsed": false,
     "input": [
      "avg_ratings_by_biz=smalldf.groupby('business_id').stars.mean()\n",
      "ax=avg_ratings_by_biz.hist()\n",
      "remove_border(ax)\n",
      "plt.xlabel(\"Average review score\")\n",
      "plt.grid(False)\n",
      "plt.grid(axis = 'y', color ='white', linestyle='-')\n",
      "plt.title(\"Average Restaurant Rating\")\n",
      "#plt.figure()\n",
      "savefig('rest_hist_small.png', bbox_inches='tight')\n",
      "\n",
      "print \"Average star rating in subset: \", round(smalldf.stars.mean(),2)"
     ],
     "language": "python",
     "metadata": {},
     "outputs": [
      {
       "output_type": "stream",
       "stream": "stdout",
       "text": [
        "Average star rating in subset:  3.87\n"
       ]
      },
      {
       "metadata": {},
       "output_type": "display_data",
       "png": "[encoded data removed]",
       "text": [
        "<matplotlib.figure.Figure at 0x10c3c0dd0>"
       ]
      }
     ],
     "prompt_number": 22
    },
    {
     "cell_type": "markdown",
     "metadata": {},
     "source": [
      "###Common Support\n",
      "\n",
      "Let us now make a histogram of the common user support (the number of common reviewers) of each pair of restaurants on the smaller set, and print the mean.\n",
      "\n",
      "The common support is an important concept, as for each pair of restaurants, its the number of people who reviewed both. It will be used to modify similarity between restaurants. If the common support is low, the similarity is less believable."
     ]
    },
    {
     "cell_type": "code",
     "collapsed": false,
     "input": [
      "restaurants = smalldf.business_id.unique()\n",
      "supports = []\n",
      "for i, rest1 in enumerate(restaurants):\n",
      "    for j, rest2 in enumerate(restaurants):\n",
      "        if i < j:\n",
      "            rest1_reviewers = smalldf[smalldf.business_id == rest1].user_id.unique()\n",
      "            rest2_reviewers = smalldf[smalldf.business_id == rest2].user_id.unique()\n",
      "            common_reviewers = set(rest1_reviewers).intersection(rest2_reviewers)\n",
      "            supports.append(len(common_reviewers))\n",
      "\n",
      "print \"Mean support is: \", np.mean(supports)\n",
      "plt.hist(supports)\n",
      "savefig('rest_support.png', bbox_inches='tight')"
     ],
     "language": "python",
     "metadata": {},
     "outputs": [
      {
       "output_type": "stream",
       "stream": "stdout",
       "text": [
        "Mean support is:  6.84679722562\n"
       ]
      },
      {
       "metadata": {},
       "output_type": "display_data",
       "png": "[encoded data removed]",
       "text": [
        "<matplotlib.figure.Figure at 0x10bdb3410>"
       ]
      }
     ],
     "prompt_number": 23
    },
    {
     "cell_type": "markdown",
     "metadata": {},
     "source": [
      "As we can see, even though we chose a subset of the dataframe in which every restaurant had 150 reviews and every user had atleast made 60, the common support of most pairs of restaurants is really low, indeed less than 10!."
     ]
    },
    {
     "cell_type": "markdown",
     "metadata": {},
     "source": [
      "### Calculating Similarity\n",
      "\n",
      "Users rate restaurants on a scale of 1-5.\n",
      "\n",
      "Even though each reviewer uses the same 5-star scale when rating restaurants, comparing two users by comparing their raw user ratings can be problematic. Consider a user whose average rating is 2. This is a curmudgeonly user. Consider another whose average rating is 4. This is a rather enthusiastic one. How should we compare a 3 rating by the curmudgeonly one to a 5 rating of the enthusiastic one?\n",
      "\n",
      "It is for this purpose that we must subtract the average rating of the user from the actual rating of the restaurants in computing the similarity of two restaurants. This makes the above ratings by the two users comparable. We do this in the function `pearson_sim` defined below.\n",
      "\n",
      "If there is no common support (`n_common=0`), we have no basis for making a similarity estimate, and so we set the similarity to 0. In the case that the individual restaurant rating variance is 0, such as in the case where there is only one common reviewer (`n_common=1`), we return the `NaN` that the scipy `pearsonr` returns. We will deal with it soon,"
     ]
    },
    {
     "cell_type": "code",
     "collapsed": false,
     "input": [
      "from scipy.stats.stats import pearsonr\n",
      "def pearson_sim(rest1_reviews, rest2_reviews, n_common):\n",
      "    \"\"\"\n",
      "    Given a subframe of restaurant 1 reviews and a subframe of restaurant 2 reviews,\n",
      "    where the reviewers are those who have reviewed both restaurants, return \n",
      "    the pearson correlation coefficient between the user average subtracted ratings.\n",
      "    The case for zero common reviewers is handled separately. Its\n",
      "    ok to return a NaN if any of the individual variances are 0.\n",
      "    \"\"\"\n",
      "    if n_common==0:\n",
      "        rho=0.\n",
      "    else:\n",
      "        diff1=rest1_reviews['stars']-rest1_reviews['user_avg']\n",
      "        diff2=rest2_reviews['stars']-rest2_reviews['user_avg']\n",
      "        rho=pearsonr(diff1, diff2)[0]\n",
      "    return rho"
     ],
     "language": "python",
     "metadata": {},
     "outputs": [],
     "prompt_number": 13
    },
    {
     "cell_type": "markdown",
     "metadata": {},
     "source": [
      "The function `get_restaurant_reviews` defined below takes a restaurant `business_id` and a set of users, and returns the reviews of that restaurant by those users. We will use this function in calculating a similarity function."
     ]
    },
    {
     "cell_type": "code",
     "collapsed": false,
     "input": [
      "def get_restaurant_reviews(restaurant_id, df, set_of_users):\n",
      "    \"\"\"\n",
      "    given a resturant id and a set of reviewers, return the sub-dataframe of their\n",
      "    reviews.\n",
      "    \"\"\"\n",
      "    mask = (df.user_id.isin(set_of_users)) & (df.business_id == restaurant_id)\n",
      "    reviews = df[mask]\n",
      "    reviews = reviews[reviews.user_id.duplicated() == False]\n",
      "    return reviews"
     ],
     "language": "python",
     "metadata": {},
     "outputs": [],
     "prompt_number": 14
    },
    {
     "cell_type": "markdown",
     "metadata": {},
     "source": [
      "Now we write a function `calculate_similarity` that operates between two restaurants and calculates a similarity for them, taking a dataframe and a similarity function `similarity_func`. An example of the `similarity_func` is the `pearson_sim` we defined above."
     ]
    },
    {
     "cell_type": "code",
     "collapsed": false,
     "input": [
      "\"\"\"\n",
      "Function\n",
      "--------\n",
      "calculate_similarity\n",
      "\n",
      "Parameters\n",
      "----------\n",
      "rest1 : string\n",
      "    The id of restaurant 1\n",
      "rest2 : string\n",
      "    The id of restaurant 2\n",
      "df : DataFrame\n",
      "  A dataframe of reviews, such as the smalldf above\n",
      "similarity_func : func\n",
      "  A function like pearson_sim above which takes two dataframes of individual\n",
      "  restaurant reviews made by a common set of reviewers, and the number of\n",
      "  common reviews. This function returns the similarity of the two restaurants\n",
      "  based on the common reviews.\n",
      "  \n",
      "Returns\n",
      "--------\n",
      "A tuple\n",
      "  The first element of the tuple is the similarity and the second the\n",
      "  common support n_common. If the similarity is a NaN, set it to 0\n",
      "\"\"\"\n",
      "def calculate_similarity(rest1, rest2, df, similarity_func):\n",
      "    # find common reviewers\n",
      "    rest1_reviewers = df[df.business_id==rest1].user_id.unique()\n",
      "    rest2_reviewers = df[df.business_id==rest2].user_id.unique()\n",
      "    common_reviewers = set(rest1_reviewers).intersection(rest2_reviewers)\n",
      "    n_common=len(common_reviewers)\n",
      "    #get reviews\n",
      "    rest1_reviews = get_restaurant_reviews(rest1, df, common_reviewers)\n",
      "    rest2_reviews = get_restaurant_reviews(rest2, df, common_reviewers)\n",
      "    sim=similarity_func(rest1_reviews, rest2_reviews, n_common)\n",
      "    if np.isnan(sim):\n",
      "        return 0, n_common\n",
      "    return sim, n_common"
     ],
     "language": "python",
     "metadata": {},
     "outputs": [],
     "prompt_number": 15
    },
    {
     "cell_type": "markdown",
     "metadata": {},
     "source": [
      "### Making a database of similarities\n",
      "\n",
      "We now move to calculating a global database of pairwise restaurant similarities.\n",
      "\n",
      "The class `Database` is initialized in its constructor by taking as arguments a dataframe of reviews. The method `populate_by_calculating` iterates over every possible pair of business_id's in the dataframe and populates the database with similarities and common supports. It takes as arguments a function the similarity function `similarity_func` like `pearson_sim` (`calculate_similarity` then uses this to calculate the similarity). The `get` method on the database can be used to retrieve the similarity for two business ids."
     ]
    },
    {
     "cell_type": "code",
     "collapsed": false,
     "input": [
      "class Database:\n",
      "    \"A class representing a database of similaries and common supports\"\n",
      "    \n",
      "    def __init__(self, df):\n",
      "        \"the constructor, takes a reviews dataframe like smalldf as its argument\"\n",
      "        database = {}\n",
      "        self.df = df\n",
      "        self.uniquebizids = {v:k for (k,v) in enumerate(df.business_id.unique())}\n",
      "        keys = self.uniquebizids.keys()\n",
      "        l_keys = len(keys)\n",
      "        self.database_sim = np.zeros([l_keys, l_keys])\n",
      "        self.database_sup = np.zeros([l_keys, l_keys], dtype=np.int)\n",
      "    \n",
      "    def populate_by_calculating(self, similarity_func):\n",
      "        \"\"\"\n",
      "        a populator for every pair of businesses in df. takes similarity_func like\n",
      "        pearson_sim as argument\n",
      "        \"\"\"\n",
      "        items=self.uniquebizids.items()\n",
      "        for b1, i1 in items:\n",
      "            for b2, i2 in items:\n",
      "                if i1 < i2:\n",
      "                    sim, nsup=calculate_similarity(b1, b2, self.df, similarity_func)\n",
      "                    self.database_sim[i1][i2]=sim\n",
      "                    self.database_sim[i2][i1]=sim\n",
      "                    self.database_sup[i1][i2]=nsup\n",
      "                    self.database_sup[i2][i1]=nsup\n",
      "                elif i1==i2:\n",
      "                    nsup=self.df[self.df.business_id==b1].user_id.count()\n",
      "                    self.database_sim[i1][i1]=1.\n",
      "                    self.database_sup[i1][i1]=nsup\n",
      "    \n",
      "    def get(self, b1, b2):\n",
      "        \"returns a tuple of similarity,common_support given two business ids\"\n",
      "        sim=self.database_sim[self.uniquebizids[b1]][self.uniquebizids[b2]]\n",
      "        nsup=self.database_sup[self.uniquebizids[b1]][self.uniquebizids[b2]]\n",
      "        return (sim, nsup)"
     ],
     "language": "python",
     "metadata": {},
     "outputs": [],
     "prompt_number": 16
    },
    {
     "cell_type": "markdown",
     "metadata": {},
     "source": [
      "Lets run `make_database` and store the result in the global variable `db`. Lets print out an example entry. Running this function will take a bit of time."
     ]
    },
    {
     "cell_type": "code",
     "collapsed": false,
     "input": [
      "db = Database(smalldf)\n",
      "db.populate_by_calculating(pearson_sim)"
     ],
     "language": "python",
     "metadata": {},
     "outputs": [],
     "prompt_number": 17
    },
    {
     "cell_type": "code",
     "collapsed": false,
     "input": [
      "db.get(\"z3yFuLVrmH-3RJruPEMYKw\", \"zruUQvFySeXyEd7_rQixBg\")"
     ],
     "language": "python",
     "metadata": {},
     "outputs": [
      {
       "metadata": {},
       "output_type": "pyout",
       "prompt_number": 18,
       "text": [
        "(0.39904554525734559, 7)"
       ]
      }
     ],
     "prompt_number": 18
    },
    {
     "cell_type": "markdown",
     "metadata": {},
     "source": [
      "### K-Nearest restaurants (in similarity)\n",
      "\n",
      "We are now going to find the k-nearest restaurants to a given restaurant based on the database of similarities that we calculated. But we have a problem.\n",
      "\n",
      "Consider the two cases where there is just one common reviewer, and where there are 40. In the former case, we might get a artificially high similarity based on the tastes of just this user, and thus we must reduce its importance in the nearest-neighbor calculation. In the latter case, we would get a much more unbiased estimator of the similarity of the two restaurants.\n",
      "\n",
      "To control the effect of small common supports, we can **shrink** our pearson co-efficients. We shall do this by using the \"regularization\" parameter `reg`:\n",
      "\n",
      "$$s_{mj} = \\frac{N_{common}\\, \\rho_{mj}}{N_{common}+reg} $$\n",
      "\n",
      "where $N_{common}$ (`n_common`) is the common reviewer support and $\\rho_{ij}$ is the pearson co-relation coefficient.\n",
      "\n",
      "We want to reduce the variance in our estimates, so we pull our estimates in toward a conservative point in a way that strongly corrals in estimates when there is very little data, but allows the data to speak when there is a lot. This can be shown as equivalent to adding in a `reg` amount of bayesian prior, as Joe has alluded to in class. \n",
      "\n",
      "A good value of the regularizer is intuitively one that dosent affect the similarity when the common support is high ~ 10, but has a large effect when the support is small. In this case, values of 2-4 are good. Usually, the value of `reg` is determined using cross-validation, but for the sake of simplicity we will generally set it to 3.\n",
      "\n",
      "We define a function `shrunk_sim` which takes the `sim` and `n_common` obtained from the database, and shrinks the similarity down using the regularizer `reg`."
     ]
    },
    {
     "cell_type": "code",
     "collapsed": false,
     "input": [
      "def shrunk_sim(sim, n_common, reg=3.):\n",
      "    \"takes a similarity and shrinks it down by using the regularizer\"\n",
      "    ssim = (n_common * sim) / (n_common + reg)\n",
      "    return np.round(ssim,4)"
     ],
     "language": "python",
     "metadata": {},
     "outputs": [],
     "prompt_number": 19
    },
    {
     "cell_type": "markdown",
     "metadata": {},
     "source": [
      "Now we can move to writing a `knearest` function, which finds the `k` nearest neighbors of a given restaurant based on the shrunk similarities we calculate. Note that as defined here, the nearest neighbors are global over the entire set of restaurants, as opposed to being restricted to the restaurants a user has reviewed(we shall do that in the next part). Thus, this is an expensive function!\n",
      "\n",
      "We write a function `knearest` that returns a *k-length sorted list* of 3-tuples each corresponding to a restaurant. The tuple structure is `(business_id, shrunken similarity score, common support)` where the similarity score and common support are with respect to the restaurant whose neighbors we are finding, and the `business_id` is the id of the \"nearby\" restaurant found. The nearby restaurants are found from a supplied numpy array of restaurants `set_of_restaurants`. The spec for the function is given below."
     ]
    },
    {
     "cell_type": "code",
     "collapsed": false,
     "input": [
      "\"\"\"\n",
      "Function\n",
      "--------\n",
      "knearest\n",
      "\n",
      "Parameters\n",
      "----------\n",
      "restaurant_id : string\n",
      "    The id of the restaurant whose nearest neighbors we want\n",
      "set_of_restaurants : array\n",
      "    The set of restaurants from which we want to find the nearest neighbors\n",
      "dbase : instance of Database class.\n",
      "    A database of similarities, on which the get method can be used to get the similarity\n",
      "  of two businessed. e.g. dbase.get(rid1,rid2)\n",
      "k : int\n",
      "    the number of nearest neighbors desired, default 7\n",
      "reg: float\n",
      "    the regularization.\n",
      "    \n",
      "  \n",
      "Returns\n",
      "--------\n",
      "A sorted list\n",
      "    of the top k similar restaurants. The list is a list of tuples\n",
      "    (business_id, shrunken similarity, common support).\n",
      "\"\"\"\n",
      "    \n",
      "from operator import itemgetter\n",
      "def knearest(restaurant_id, set_of_restaurants, dbase, k=7, reg=3.):\n",
      "    \"\"\"\n",
      "    Given a restaurant_id, dataframe, and database, get a sorted list of the\n",
      "    k most similar restaurants from the entire database.\n",
      "    \"\"\"\n",
      "    similars = []\n",
      "    for other_rest_id in set_of_restaurants:\n",
      "        if other_rest_id != restaurant_id:\n",
      "            sim, nc = dbase.get(restaurant_id, other_rest_id)\n",
      "            ssim = shrunk_sim(sim, nc, reg=reg)\n",
      "            similars.append((other_rest_id, ssim, nc))\n",
      "    similars = sorted(similars, key = itemgetter(1), reverse=True)\n",
      "    return similars[0:k]"
     ],
     "language": "python",
     "metadata": {},
     "outputs": [],
     "prompt_number": 20
    },
    {
     "cell_type": "markdown",
     "metadata": {},
     "source": [
      "### Ok it's time to recommend!\n",
      "\n",
      "Lets choose the two very different businesses in the dataframe"
     ]
    },
    {
     "cell_type": "code",
     "collapsed": false,
     "input": [
      "testbizid=\"Zx8_4zKdDBSO3qGrkukBIA\"\n",
      "testbizid2=\"-sC66z4SO3tR7nFCjfQwuQ\""
     ],
     "language": "python",
     "metadata": {},
     "outputs": [],
     "prompt_number": 21
    },
    {
     "cell_type": "markdown",
     "metadata": {},
     "source": [
      "Here we define functions to look up a business name or a user name from the id"
     ]
    },
    {
     "cell_type": "code",
     "collapsed": false,
     "input": [
      "def biznamefromid(df, theid):\n",
      "    return df['biz_name'][df['business_id']==theid].values[0]\n",
      "def usernamefromid(df, theid):\n",
      "    return df['user_name'][df['user_id']==theid].values[0]"
     ],
     "language": "python",
     "metadata": {},
     "outputs": [],
     "prompt_number": 22
    },
    {
     "cell_type": "code",
     "collapsed": false,
     "input": [
      "print testbizid, biznamefromid(smalldf,testbizid)\n",
      "print testbizid2, biznamefromid(smalldf, testbizid2)"
     ],
     "language": "python",
     "metadata": {},
     "outputs": [
      {
       "output_type": "stream",
       "stream": "stdout",
       "text": [
        "Zx8_4zKdDBSO3qGrkukBIA Chino Bandido\n",
        "-sC66z4SO3tR7nFCjfQwuQ Gallo Blanco Cafe\n"
       ]
      }
     ],
     "prompt_number": 23
    },
    {
     "cell_type": "markdown",
     "metadata": {},
     "source": [
      "####Get top matches\n",
      "\n",
      "Its now time to answer the question: \"if you liked this, you might also like these\". We use our `testbizid` and `testbizid2` to compute the `k=7` nearest neighbors with a regularization of `3.` . We print these top 7 matches names, along with their similarity coefficient and common support."
     ]
    },
    {
     "cell_type": "code",
     "collapsed": false,
     "input": [
      "tops = knearest(testbizid, smalldf.business_id.unique(), db, k=7, reg=3.)\n",
      "print \"The top matches for \", biznamefromid(smalldf,testbizid), \" are:\"\n",
      "for i, (biz_id,sim,nc) in enumerate(tops):\n",
      "    print i, biznamefromid(smalldf,biz_id), \"|Sim: \", sim, \" |Support: \", nc"
     ],
     "language": "python",
     "metadata": {},
     "outputs": [
      {
       "output_type": "stream",
       "stream": "stdout",
       "text": [
        "The top matches for  Chino Bandido  are:\n",
        "0 Petite Maison |Sim:  0.6008  |Support:  7\n",
        "1 Chino Bandido |Sim:  0.5714  |Support:  4\n",
        "2 Tacos Atoyac |Sim:  0.5668  |Support:  6\n",
        "3 Pita Jungle |Sim:  0.5458  |Support:  7\n",
        "4 Kona Grill |Sim:  0.5299  |Support:  8\n",
        "5 True Food Kitchen |Sim:  0.5074  |Support:  4\n",
        "6 Hiro Sushi |Sim:  0.4991  |Support:  3\n"
       ]
      }
     ],
     "prompt_number": 24
    },
    {
     "cell_type": "code",
     "collapsed": false,
     "input": [
      "tops2 = knearest(testbizid2, smalldf.business_id.unique(), db, k=7, reg=3.)\n",
      "print \"The top matches for \", biznamefromid(smalldf,testbizid2), \" are:\"\n",
      "for i, (biz_id,sim,nc) in enumerate(tops2):\n",
      "    print i, biznamefromid(smalldf,biz_id), \"|Sim: \", sim, \" |Support: \", nc"
     ],
     "language": "python",
     "metadata": {},
     "outputs": [
      {
       "output_type": "stream",
       "stream": "stdout",
       "text": [
        "The top matches for  Gallo Blanco Cafe  are:\n",
        "0 Hana Japanese Eatery |Sim:  0.644  |Support:  11\n",
        "1 Rula Bula |Sim:  0.5712  |Support:  13\n",
        "2 Chino Bandido |Sim:  0.5669  |Support:  7\n",
        "3 Lo-Lo's Chicken & Waffles |Sim:  0.5117  |Support:  16\n",
        "4 The Rose and Crown |Sim:  0.473  |Support:  22\n",
        "5 RA Sushi Bar Restaurant |Sim:  0.4548  |Support:  11\n",
        "6 D'lish |Sim:  0.4365  |Support:  12\n"
       ]
      }
     ],
     "prompt_number": 25
    },
    {
     "cell_type": "markdown",
     "metadata": {},
     "source": [
      "We have generated recommendations based on restaurants but another important part is user based recommendations. In order to find that, we need to look at a user's top rated restaurants, find nearest neighbors for these restaurants, remove the restaurants that are already rated by user, and sort them by average rating."
     ]
    },
    {
     "cell_type": "code",
     "collapsed": false,
     "input": [
      "def get_user_top_choices(user_id, df, numchoices=5):\n",
      "    \"get the sorted top 5 restaurants for a user by the star rating the user gave them\"\n",
      "    udf=df[df.user_id==user_id][['business_id','stars']].sort(['stars'], ascending=False).head(numchoices)\n",
      "    return udf\n",
      "testuserid=\"0bNXP9quoJEgyVZu9ipGgQ\"\n",
      "print \"For user\", usernamefromid(smalldf,testuserid), \"top choices are:\" \n",
      "bizs=get_user_top_choices(testuserid, smalldf)['business_id'].values\n",
      "[biznamefromid(smalldf, biz_id) for biz_id in bizs]"
     ],
     "language": "python",
     "metadata": {},
     "outputs": [
      {
       "output_type": "stream",
       "stream": "stdout",
       "text": [
        "For user Aileen top choices are:\n"
       ]
      },
      {
       "metadata": {},
       "output_type": "pyout",
       "prompt_number": 32,
       "text": [
        "['Bandera',\n",
        " 'Haji-Baba',\n",
        " 'The Herb Box',\n",
        " 'Postino Arcadia',\n",
        " 'Wildfish Seafood Grille']"
       ]
      }
     ],
     "prompt_number": 32
    },
    {
     "cell_type": "code",
     "collapsed": false,
     "input": [
      "\"\"\"\n",
      "Function\n",
      "--------\n",
      "get_top_recos_for_user\n",
      "\n",
      "Parameters\n",
      "----------\n",
      "userid : string\n",
      "    The id of the user for whom we want the top recommendations\n",
      "df : Dataframe\n",
      "    The dataframe of restaurant reviews such as smalldf\n",
      "dbase : instance of Database class.\n",
      "    A database of similarities, on which the get method can be used to get the similarity\n",
      "  of two businesses. e.g. dbase.get(rid1,rid2)\n",
      "n: int\n",
      "    the n top choices of the user by star rating\n",
      "k : int\n",
      "    the number of nearest neighbors desired, default 8\n",
      "reg: float\n",
      "    the regularization.\n",
      "    \n",
      "  \n",
      "Returns\n",
      "--------\n",
      "A sorted list\n",
      "    of the top recommendations. The list is a list of tuples\n",
      "    (business_id, business_avg). You are combining the k-nearest recommendations \n",
      "    for each of the user's n top choices, removing duplicates and the ones the user\n",
      "    has already rated.\n",
      "\"\"\"\n",
      "def get_top_recos_for_user(userid, df, dbase, n=5, k=7, reg=3.):\n",
      "    bizs=get_user_top_choices(userid, df, numchoices=n)['business_id'].values\n",
      "    rated_by_user=df[df.user_id==userid].business_id.values\n",
      "    tops=[]\n",
      "    for ele in bizs:\n",
      "        t=knearest(ele, df.business_id.unique(), dbase, k=k, reg=reg)\n",
      "        for e in t:\n",
      "            if e[0] not in rated_by_user:\n",
      "                tops.append(e)\n",
      "    #We drop the duplicates and get the unique business ids\n",
      "    ids=[e[0] for e in tops]\n",
      "    uids={k:0 for k in list(set(ids))}\n",
      "\n",
      "    topsu=[]\n",
      "    for e in tops:\n",
      "        if uids[e[0]] == 0:\n",
      "            topsu.append(e)\n",
      "            uids[e[0]] =1\n",
      "    #We create a list of business ids and their average rating\n",
      "    topsr=[]     \n",
      "    for r, s,nc in topsu:\n",
      "        avg_rate=df[df.business_id==r].stars.mean()\n",
      "        topsr.append((r,avg_rate))\n",
      "    #We sort the list based on average rating\n",
      "    topsr=sorted(topsr, key=itemgetter(1), reverse=True)\n",
      "\n",
      "    if n < len(topsr):\n",
      "        return topsr[0:n]\n",
      "    else:\n",
      "        return topsr"
     ],
     "language": "python",
     "metadata": {},
     "outputs": [],
     "prompt_number": 27
    },
    {
     "cell_type": "code",
     "collapsed": false,
     "input": [
      "print \"For user\", usernamefromid(smalldf,testuserid), \"the top recommendations are:\"\n",
      "toprecos=get_top_recos_for_user(testuserid, smalldf, db, n=5, k=7, reg=3.)\n",
      "for biz_id, biz_avg in toprecos:\n",
      "    print biznamefromid(smalldf,biz_id), \"| Average Rating |\", biz_avg"
     ],
     "language": "python",
     "metadata": {},
     "outputs": [
      {
       "output_type": "stream",
       "stream": "stdout",
       "text": [
        "For user Aileen the top recommendations are:\n",
        "Caf\u00e9 Monarch"
       ]
      },
      {
       "output_type": "stream",
       "stream": "stdout",
       "text": [
        " | Average Rating | 4.8\n",
        "Mastro's City Hall Steakhouse | Average Rating | 4.28\n",
        "Pane Bianco | Average Rating | 4.16279069767\n",
        "The Mission | Average Rating | 4.16129032258\n",
        "Cornish Pasty Company | Average Rating | 4.07894736842\n"
       ]
      }
     ],
     "prompt_number": 33
    },
    {
     "cell_type": "heading",
     "level": 4,
     "metadata": {},
     "source": [
      "This concludes the first part of the project where we used nearest neighbors to make predictions based on restaurant and user."
     ]
    },
    {
     "cell_type": "heading",
     "level": 1,
     "metadata": {},
     "source": [
      "Part 2: Predicted ratings for recommendations"
     ]
    },
    {
     "cell_type": "markdown",
     "metadata": {},
     "source": [
      "Using the nearest neighbors algorithm, we have been able to make predictions for a particular user based on the restaurant reviews he/she has given. However, we would like to be able to predict some measure of \"likeness\" of the predicted restaurants for that particular user (just like Netflix recommends movies and shows a predicted star rating personalized for each user). To do this, we only pool the information from the restaurants that the user has already reviewed.\n",
      "\n",
      "This allows us to return to the original problem of prediction $Y_{um}$ for a restaurant $m$ that user $u$ has never rated before. Using our newly computed similarity metrics, we can modify our original baseline estimate by pulling in information from the user's neighborhood of the restaurant $m$, and predict $Y_{um}$ as:\n",
      "\n",
      "$$ \\hat{Y}_{um} = \\hat Y^{baseline}_{um}\\, + \\,\\frac{\\sum\\limits_{j \\in S^{k}(m;u)} s_{mj} ( Y_{uj} - \\hat Y^{baseline}_{uj} )}{\\sum\\limits_{j \\in S^{k}(m;u)} s_{mj} } $$\n",
      "\n",
      "where $s^{k}(m;u)$ is the $k$ neighbor items of item $m$ which have been rated by user $u$.\n",
      "\n",
      "Now, this is not a particularly good assumption, especially in the situation where a restaurant is new (new item problem) or a user is new (cold start problem), or in the case when there are very few reviewers of a restaurant, or very few reviews by a user respectively. However, one must start somewhere!\n",
      "\n",
      "Notice that in adding in the similarity term, we subtract the baseline estimate from the observed rating of the user's neighbor items."
     ]
    },
    {
     "cell_type": "code",
     "collapsed": false,
     "input": [
      "knearest(testbizid,smalldf.business_id.unique(), db)[3][0]"
     ],
     "language": "python",
     "metadata": {},
     "outputs": [
      {
       "metadata": {},
       "output_type": "pyout",
       "prompt_number": 41,
       "text": [
        "'w19cemjVR8u02PgjFpJ7Mw'"
       ]
      }
     ],
     "prompt_number": 41
    },
    {
     "cell_type": "code",
     "collapsed": false,
     "input": [
      "smalldf[smalldf.user_id==testuserid].business_id.values"
     ],
     "language": "python",
     "metadata": {},
     "outputs": [
      {
       "metadata": {},
       "output_type": "pyout",
       "prompt_number": 37,
       "text": [
        "array(['9ziO3NpoNTKHvIKCBFB_fQ', 'nMHhuYan8e3cONo3PornJA',\n",
        "       'e8FMAuTswDueAlLsNyLhcA', '8t80-omyflkywRfu9LPh6g',\n",
        "       'FV0BkoGOd3Yu_eJnXY15ZA', 's1dex3Z3QoqiK7V-zXUgAw',\n",
        "       'c1yGkETheht_1vjda7G5sA', 'ObnZiF99lqggVasgyGBtVA',\n",
        "       'wZwZcte4lcbu51NOzCjWbQ', 'Y-9dJvw-J2d9QKfuL7mKgA',\n",
        "       'YCCDMLcb7UW8G-o_HsWiiA', 'pwpl-rxwNRQdgqFz_-qMPg',\n",
        "       'IuAPYzf3NSyfyXYgT46YVA', 'jRfdz5voj40P6WS9L54caw',\n",
        "       'WNy1uzcmm_UHmTyR--o5IA', '9Ep4sguv3HH_8lWyzSogjw',\n",
        "       'L9UYbtAUOcfTgZFimehlXw', 'M6fjHpkL9IRI-nI0BattRw',\n",
        "       'bgTB6MgdVQssXhkNJ7qIfw', 'GIGI8bJfN6HyPzmEW-QqjA',\n",
        "       '3oZcTGb_oDHGwZFiP-7kxQ', 'xY1sPHTA2RGVFlh5tZhs9g',\n",
        "       'P5uC-zfGG6yqoQDUyqyAvg', 'ke3RFq3mHEAoJE_kkRNhiQ',\n",
        "       '53YGfwmbW73JhFiemNeyzQ', 'qjmCVYkwP-HDa35jwYucbQ',\n",
        "       '6oRAC4uyJCsJl1X0WZpVSA', 'K8pM6qQdYu5h6buRE1-_sw',\n",
        "       'FUI-hWH_bpis7AKZTWenUQ', 'tZXPhvufHhfejGrRp554Lg',\n",
        "       'no_FXjscklz1SEzM_XnVgw', 'Xq9tkiHhyN_aBFswFeGLvA',\n",
        "       'eTbtfgUtfewdncgVf2CbWw', 'V1nEpIRmEa1768oj_tuxeQ',\n",
        "       'ntN85eu27C04nwyPa8IHtw', 'MuIXnv7Oq7X3-4aEsp9dDA',\n",
        "       'hfl62LX14YqNpG0g0Tj6_Q', 'e9nN4XxjdHj4qtKCOPq_vg',\n",
        "       'QnAzW6KMSciUcuJ20oI3Bw', 'VVeogjZya58oiTxK7qUjAQ',\n",
        "       'mxrXVZWc6PWk81gvOVNOUw', 'SDwYQ6eSu1htn8vHWv128g',\n",
        "       'EKzMHI1tip8rC1-ZAy64yg', 'EWMwV5V9BxNs_U6nNVMeqw',\n",
        "       'uKSX1n1RoAzGq4bV8GPHVg', '90AXjqb4O-wrTHDKDoDUzg',\n",
        "       '9Y3aQAVITkEJYe5vLZr13w', 'I4bSn5gXsHuSPu7L-d_8nQ',\n",
        "       '-4A5xmN21zi_TXnUESauUQ', 'sbsFamEj5wDxNAjUKrMcSw',\n",
        "       'z3yFuLVrmH-3RJruPEMYKw', 'muCl5p-9ut1sY0aKeUeRhw',\n",
        "       'EmlgWjs1ZzZEpDjZCSPLmw', 'Yhfp_vgnh_GirZGeVhj7Gg',\n",
        "       'fK7ujDbjhRFEe2D7eIwK4w', '-bd26a1QEEpqUZjBmtBUiQ',\n",
        "       'zOCdVUKUN3b-obT67Qjyww', 'mhQCxOiqp03qnhGRTtPduw',\n",
        "       'h6jfMpTZpNduLG0wE2tbaw', 'KPoTixdjoJxSqRSEApSAGg',\n",
        "       'cLojUtqkFpVIHFEvA_5Atw', 'V6BYjHM9SnXscfkln3hCdA',\n",
        "       'AhpzPZH3b0PGT9mVoLCQDg', 'LzNJLEIo4gh-X_rmDkNkNg',\n",
        "       '7QSYBp2-AOdyUJXEaLnbgA'], dtype=object)"
       ]
      }
     ],
     "prompt_number": 37
    },
    {
     "cell_type": "code",
     "collapsed": false,
     "input": [],
     "language": "python",
     "metadata": {},
     "outputs": []
    }
   ],
   "metadata": {}
  }
 ]
}